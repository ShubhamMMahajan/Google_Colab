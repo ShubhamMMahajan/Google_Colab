{
  "nbformat": 4,
  "nbformat_minor": 0,
  "metadata": {
    "colab": {
      "name": "First_Neural_Network.ipynb",
      "version": "0.3.2",
      "provenance": [],
      "collapsed_sections": [],
      "include_colab_link": true
    },
    "kernelspec": {
      "name": "python3",
      "display_name": "Python 3"
    }
  },
  "cells": [
    {
      "cell_type": "markdown",
      "metadata": {
        "id": "view-in-github",
        "colab_type": "text"
      },
      "source": [
        "<a href=\"https://colab.research.google.com/github/ShubhamMMahajan/Google_Colab/blob/master/First_Neural_Network.ipynb\" target=\"_parent\"><img src=\"https://colab.research.google.com/assets/colab-badge.svg\" alt=\"Open In Colab\"/></a>"
      ]
    },
    {
      "metadata": {
        "id": "XKovIHTtRPzy",
        "colab_type": "code",
        "colab": {}
      },
      "cell_type": "code",
      "source": [
        "import numpy\n",
        "import random\n",
        "\n",
        "def non_lin(x, deriv=False):\n",
        "  if deriv:\n",
        "    return x * (1 - x)\n",
        "  return 1/(1 + numpy.exp(-x))"
      ],
      "execution_count": 0,
      "outputs": []
    },
    {
      "metadata": {
        "id": "Nxb2SrVdZKag",
        "colab_type": "code",
        "colab": {}
      },
      "cell_type": "code",
      "source": [
        "x = numpy.array([[0, 0, 1],\n",
        "            [0, 1, 1],\n",
        "            [1, 0, 1],\n",
        "            [1, 1, 1]])\n",
        "y = numpy.array([[0],\n",
        "            [1],\n",
        "            [1],\n",
        "            [0]])\n",
        "syn0 = 2*numpy.random.random((3, 4)) - 1\n",
        "syn1 = 2*numpy.random.random((4, 1)) - 1\n"
      ],
      "execution_count": 0,
      "outputs": []
    },
    {
      "metadata": {
        "id": "s1-OfahLaQ0C",
        "colab_type": "code",
        "colab": {
          "base_uri": "https://localhost:8080/",
          "height": 219
        },
        "outputId": "7e56593c-cbb4-4e08-d32e-8386f1602a3e"
      },
      "cell_type": "code",
      "source": [
        "for j in range(60000):\n",
        "  l0 = x\n",
        "  l1 = non_lin(numpy.dot(l0, syn0))\n",
        "  l2 = non_lin(numpy.dot(l1, syn1))\n",
        "  l2_error = y - l2\n",
        "  if j % 10000 == 0:\n",
        "    print(\"Error: \" + str(numpy.mean(numpy.abs(l2_error))))\n",
        "  l2_delta = l2_error * non_lin(l2, deriv=True)\n",
        "  l1_error = l2_delta.dot(syn1.T)\n",
        "  l1_delta = l1_error * non_lin(l1, deriv=True)\n",
        "  \n",
        "  syn1 += l1.T.dot(l2_delta)\n",
        "  syn0 += l0.T.dot(l1_delta)\n",
        "  \n",
        "print(\"Predicted Output\")\n",
        "print(l2)"
      ],
      "execution_count": 12,
      "outputs": [
        {
          "output_type": "stream",
          "text": [
            "Error: 0.0010897521858450176\n",
            "Error: 0.0010814912435074308\n",
            "Error: 0.0010734143416860902\n",
            "Error: 0.001065514757151818\n",
            "Error: 0.001057786105323914\n",
            "Error: 0.0010502223186591535\n",
            "Predicted Output\n",
            "[[0.00101483]\n",
            " [0.99907751]\n",
            " [0.99883232]\n",
            " [0.00106627]]\n"
          ],
          "name": "stdout"
        }
      ]
    },
    {
      "metadata": {
        "id": "unAVTkKdcV7n",
        "colab_type": "code",
        "colab": {}
      },
      "cell_type": "code",
      "source": [
        ""
      ],
      "execution_count": 0,
      "outputs": []
    }
  ]
}